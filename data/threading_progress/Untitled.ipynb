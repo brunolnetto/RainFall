{
 "cells": [
  {
   "cell_type": "code",
   "execution_count": 1,
   "id": "b7debd52",
   "metadata": {},
   "outputs": [
    {
     "name": "stdout",
     "output_type": "stream",
     "text": [
      "Defaulting to user installation because normal site-packages is not writeable\n",
      "Collecting progressbar\n",
      "  Using cached progressbar-2.5-py3-none-any.whl\n",
      "Installing collected packages: progressbar\n",
      "Successfully installed progressbar-2.5\n"
     ]
    }
   ],
   "source": [
    "!pip install progressbar"
   ]
  },
  {
   "cell_type": "code",
   "execution_count": 6,
   "id": "582730c2",
   "metadata": {},
   "outputs": [
    {
     "ename": "TypeError",
     "evalue": "__init__() got an unexpected keyword argument 'max_value'",
     "output_type": "error",
     "traceback": [
      "\u001b[0;31m---------------------------------------------------------------------------\u001b[0m",
      "\u001b[0;31mTypeError\u001b[0m                                 Traceback (most recent call last)",
      "Cell \u001b[0;32mIn[6], line 15\u001b[0m\n\u001b[1;32m     12\u001b[0m bars \u001b[38;5;241m=\u001b[39m []\n\u001b[1;32m     13\u001b[0m \u001b[38;5;28;01mfor\u001b[39;00m i \u001b[38;5;129;01min\u001b[39;00m \u001b[38;5;28mrange\u001b[39m(BARS):\n\u001b[1;32m     14\u001b[0m     bars\u001b[38;5;241m.\u001b[39mappend(\n\u001b[0;32m---> 15\u001b[0m         \u001b[43mprogressbar\u001b[49m\u001b[38;5;241;43m.\u001b[39;49m\u001b[43mProgressBar\u001b[49m\u001b[43m(\u001b[49m\n\u001b[1;32m     16\u001b[0m \u001b[43m            \u001b[49m\u001b[43mmax_value\u001b[49m\u001b[38;5;241;43m=\u001b[39;49m\u001b[43mN\u001b[49m\u001b[43m,\u001b[49m\n\u001b[1;32m     17\u001b[0m \u001b[43m            \u001b[49m\u001b[38;5;66;43;03m# We add 1 to the line offset to account for the `print_fd`\u001b[39;49;00m\n\u001b[1;32m     18\u001b[0m \u001b[43m            \u001b[49m\u001b[43mline_offset\u001b[49m\u001b[38;5;241;43m=\u001b[39;49m\u001b[43mi\u001b[49m\u001b[43m \u001b[49m\u001b[38;5;241;43m+\u001b[39;49m\u001b[43m \u001b[49m\u001b[38;5;241;43m1\u001b[39;49m\u001b[43m,\u001b[49m\n\u001b[1;32m     19\u001b[0m \u001b[43m            \u001b[49m\u001b[43mmax_error\u001b[49m\u001b[38;5;241;43m=\u001b[39;49m\u001b[38;5;28;43;01mFalse\u001b[39;49;00m\u001b[43m,\u001b[49m\n\u001b[1;32m     20\u001b[0m \u001b[43m        \u001b[49m\u001b[43m)\u001b[49m\n\u001b[1;32m     21\u001b[0m     )\n\u001b[1;32m     23\u001b[0m \u001b[38;5;66;03m# Create a file descriptor for regular printing as well\u001b[39;00m\n\u001b[1;32m     24\u001b[0m print_fd \u001b[38;5;241m=\u001b[39m progressbar\u001b[38;5;241m.\u001b[39mLineOffsetStreamWrapper(\u001b[38;5;241m0\u001b[39m, sys\u001b[38;5;241m.\u001b[39mstdout)\n",
      "\u001b[0;31mTypeError\u001b[0m: __init__() got an unexpected keyword argument 'max_value'"
     ]
    }
   ],
   "source": [
    "import random\n",
    "import sys\n",
    "import time\n",
    "\n",
    "import progressbar\n",
    "\n",
    "BARS = 5\n",
    "N = 100\n",
    "\n",
    "# Construct the list of progress bars with the `line_offset` so they draw\n",
    "# below each other\n",
    "bars = []\n",
    "for i in range(BARS):\n",
    "    bars.append(\n",
    "        progressbar.ProgressBar(\n",
    "            max_value=N,\n",
    "            # We add 1 to the line offset to account for the `print_fd`\n",
    "            line_offset=i + 1,\n",
    "            max_error=False,\n",
    "        )\n",
    "    )\n",
    "\n",
    "# Create a file descriptor for regular printing as well\n",
    "print_fd = progressbar.LineOffsetStreamWrapper(0, sys.stdout)\n",
    "\n",
    "# The progress bar updates, normally you would do something useful here\n",
    "for i in range(N * BARS):\n",
    "    time.sleep(0.005)\n",
    "\n",
    "    # Increment one of the progress bars at random\n",
    "    bars[random.randrange(0, BARS)].increment()\n",
    "\n",
    "    # Print a status message to the `print_fd` below the progress bars\n",
    "    print(f'Hi, we are at update {i+1} of {N * BARS}', file=print_fd)\n",
    "\n",
    "# Cleanup the bars\n",
    "for bar in bars:\n",
    "    bar.finish()"
   ]
  },
  {
   "cell_type": "code",
   "execution_count": null,
   "id": "4191ffc4",
   "metadata": {},
   "outputs": [],
   "source": []
  }
 ],
 "metadata": {
  "kernelspec": {
   "display_name": "Python 3 (ipykernel)",
   "language": "python",
   "name": "python3"
  },
  "language_info": {
   "codemirror_mode": {
    "name": "ipython",
    "version": 3
   },
   "file_extension": ".py",
   "mimetype": "text/x-python",
   "name": "python",
   "nbconvert_exporter": "python",
   "pygments_lexer": "ipython3",
   "version": "3.8.10"
  }
 },
 "nbformat": 4,
 "nbformat_minor": 5
}
